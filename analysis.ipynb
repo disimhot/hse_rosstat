{
 "cells": [
  {
   "cell_type": "code",
   "execution_count": 22,
   "id": "ae70a42e-9ea1-4436-9b1a-45cb34a1fab0",
   "metadata": {},
   "outputs": [],
   "source": [
    "import numpy as np\n",
    "import pandas as pd\n",
    "import matplotlib.pyplot as plt\n",
    "import seaborn as sns\n",
    "\n",
    "%matplotlib inline "
   ]
  },
  {
   "cell_type": "code",
   "execution_count": 40,
   "id": "f58aec8f-4b81-4522-b410-181fb79e6baa",
   "metadata": {},
   "outputs": [],
   "source": [
    "df = pd.read_csv('economics.csv', parse_dates=True)"
   ]
  },
  {
   "cell_type": "code",
   "execution_count": 117,
   "id": "f0468330-5f81-4cdf-a2e5-85773dbdcd11",
   "metadata": {},
   "outputs": [
    {
     "data": {
      "text/plain": [
       "<bound method Series.unique of 0     растениеводство и животноводство, охота и пред...\n",
       "1                           лесоводство и лесозаготовки\n",
       "2                             рыболовство и рыбоводство\n",
       "3                                           добыча угля\n",
       "4                        добыча нефти и природного газа\n",
       "5                              добыча металлических руд\n",
       "6                        производство пищевых продуктов\n",
       "7                                 производство напитков\n",
       "8                         производство табачных изделий\n",
       "9                      производство текстильных изделий\n",
       "10                                  производство одежды\n",
       "11                  производство кожи и изделий из кожи\n",
       "12    обработка древесины и производство изделий из ...\n",
       "13               производство бумаги и бумажных изделий\n",
       "14        деятельность полиграфическая и копирование...\n",
       "15                  производство кокса и нефтепродуктов\n",
       "16        производство химических веществ и химическ...\n",
       "17        производство лекарственных средств и матер...\n",
       "18        производство резиновых и пластмассовых изд...\n",
       "19        производство прочей неметаллической минера...\n",
       "20                        производство металлургическое\n",
       "21        производство готовых металлических изделий...\n",
       "22        производство компьютеров, электронных и оп...\n",
       "23             производство электрического оборудования\n",
       "24        производство машин и оборудования, не вклю...\n",
       "25        производство автотранспортных средств, при...\n",
       "26        производство прочих транспортных средств и...\n",
       "27                                  производство мебели\n",
       "28                  производство прочих готовых изделий\n",
       "29                 ремонт и монтаж машин и оборудования\n",
       "30    обеспечение электрической энергией, газом и па...\n",
       "31    водоснабжение; водоотведение, организация сбор...\n",
       "32                                        строительство\n",
       "33    торговля оптовая и розничная; ремонт автотранс...\n",
       "34                           транспортировка и хранение\n",
       "35    деятельность гостиниц и предприятий общественн...\n",
       "36            деятельность в области информации и связи\n",
       "37                  деятельность финансовая и страховая\n",
       "38    деятельность по операциям с недвижимым имуществом\n",
       "39    деятельность профессиональная,научная и технич...\n",
       "40             из нее научные исследования и разработки\n",
       "41    деятельность административная и сопутствующие ...\n",
       "42    государственное управление и обеспечение военн...\n",
       "43                                          образование\n",
       "44    деятельность в области здравоохранения и социа...\n",
       "45    деятельность в области культуры, спорта, орган...\n",
       "Name: Вид, dtype: object>"
      ]
     },
     "execution_count": 117,
     "metadata": {},
     "output_type": "execute_result"
    }
   ],
   "source": [
    "df['Вид'].unique"
   ]
  },
  {
   "cell_type": "code",
   "execution_count": 41,
   "id": "59419aa8-63f7-4c28-8b2e-e40f46d94d90",
   "metadata": {},
   "outputs": [],
   "source": [
    "interested_activities = ['образование', 'производство одежды']"
   ]
  },
  {
   "cell_type": "code",
   "execution_count": 42,
   "id": "ba903352-a521-49fe-a565-11a29183dfdd",
   "metadata": {},
   "outputs": [
    {
     "data": {
      "text/html": [
       "<div>\n",
       "<style scoped>\n",
       "    .dataframe tbody tr th:only-of-type {\n",
       "        vertical-align: middle;\n",
       "    }\n",
       "\n",
       "    .dataframe tbody tr th {\n",
       "        vertical-align: top;\n",
       "    }\n",
       "\n",
       "    .dataframe thead th {\n",
       "        text-align: right;\n",
       "    }\n",
       "</style>\n",
       "<table border=\"1\" class=\"dataframe\">\n",
       "  <thead>\n",
       "    <tr style=\"text-align: right;\">\n",
       "      <th></th>\n",
       "      <th>Вид</th>\n",
       "      <th>2017</th>\n",
       "      <th>2018</th>\n",
       "      <th>2019</th>\n",
       "      <th>2020</th>\n",
       "      <th>2021</th>\n",
       "      <th>2022</th>\n",
       "      <th>2023</th>\n",
       "    </tr>\n",
       "  </thead>\n",
       "  <tbody>\n",
       "    <tr>\n",
       "      <th>10</th>\n",
       "      <td>производство одежды</td>\n",
       "      <td>20299</td>\n",
       "      <td>19819</td>\n",
       "      <td>21065</td>\n",
       "      <td>20927</td>\n",
       "      <td>24312</td>\n",
       "      <td>27352</td>\n",
       "      <td>34049</td>\n",
       "    </tr>\n",
       "    <tr>\n",
       "      <th>43</th>\n",
       "      <td>образование</td>\n",
       "      <td>30258</td>\n",
       "      <td>34361</td>\n",
       "      <td>37072</td>\n",
       "      <td>39563</td>\n",
       "      <td>43391</td>\n",
       "      <td>48400</td>\n",
       "      <td>54263</td>\n",
       "    </tr>\n",
       "  </tbody>\n",
       "</table>\n",
       "</div>"
      ],
      "text/plain": [
       "                    Вид   2017   2018   2019   2020   2021   2022   2023\n",
       "10  производство одежды  20299  19819  21065  20927  24312  27352  34049\n",
       "43          образование  30258  34361  37072  39563  43391  48400  54263"
      ]
     },
     "execution_count": 42,
     "metadata": {},
     "output_type": "execute_result"
    }
   ],
   "source": [
    "data = df[df['Вид'].isin(interested_activities)]\n",
    "data.head()"
   ]
  },
  {
   "cell_type": "code",
   "execution_count": 43,
   "id": "48127210-bc96-43dc-9920-ba47cafc2835",
   "metadata": {},
   "outputs": [],
   "source": [
    "data = data.set_index('Вид').transpose()"
   ]
  },
  {
   "cell_type": "code",
   "execution_count": 145,
   "id": "161823de-fea1-49ed-b92c-d642c335477b",
   "metadata": {},
   "outputs": [
    {
     "data": {
      "text/plain": [
       "<AxesSubplot:>"
      ]
     },
     "execution_count": 145,
     "metadata": {},
     "output_type": "execute_result"
    },
    {
     "data": {
      "image/png": "[encoded data removed]",
      "text/plain": [
       "<Figure size 640x480 with 1 Axes>"
      ]
     },
     "metadata": {},
     "output_type": "display_data"
    }
   ],
   "source": [
    "sns.lineplot(data=data)"
   ]
  },
  {
   "cell_type": "markdown",
   "id": "f2b9b894-a169-4ce2-b491-386e6c047b44",
   "metadata": {},
   "source": [
    "Средняя заработная плата росла в образовании с 2017 по 2023 гг. В производстве одежды есть небольшое падение в 2018 по сравнению с предыдущим годом и резкое увеличение с 2020 г"
   ]
  },
  {
   "cell_type": "code",
   "execution_count": 26,
   "id": "3c20385d-4f48-4fad-8efb-3cf445f76382",
   "metadata": {},
   "outputs": [],
   "source": [
    "infl = pd.read_csv('inflation.csv')"
   ]
  },
  {
   "cell_type": "code",
   "execution_count": 39,
   "id": "b649ee62-055a-49b7-8235-1d06271271c0",
   "metadata": {},
   "outputs": [
    {
     "data": {
      "text/html": [
       "<div>\n",
       "<style scoped>\n",
       "    .dataframe tbody tr th:only-of-type {\n",
       "        vertical-align: middle;\n",
       "    }\n",
       "\n",
       "    .dataframe tbody tr th {\n",
       "        vertical-align: top;\n",
       "    }\n",
       "\n",
       "    .dataframe thead th {\n",
       "        text-align: right;\n",
       "    }\n",
       "</style>\n",
       "<table border=\"1\" class=\"dataframe\">\n",
       "  <thead>\n",
       "    <tr style=\"text-align: right;\">\n",
       "      <th></th>\n",
       "      <th>Year</th>\n",
       "      <th>Total</th>\n",
       "    </tr>\n",
       "  </thead>\n",
       "  <tbody>\n",
       "    <tr>\n",
       "      <th>0</th>\n",
       "      <td>2023</td>\n",
       "      <td>7.42</td>\n",
       "    </tr>\n",
       "    <tr>\n",
       "      <th>1</th>\n",
       "      <td>2022</td>\n",
       "      <td>11.92</td>\n",
       "    </tr>\n",
       "    <tr>\n",
       "      <th>2</th>\n",
       "      <td>2021</td>\n",
       "      <td>8.39</td>\n",
       "    </tr>\n",
       "    <tr>\n",
       "      <th>3</th>\n",
       "      <td>2020</td>\n",
       "      <td>4.91</td>\n",
       "    </tr>\n",
       "    <tr>\n",
       "      <th>4</th>\n",
       "      <td>2019</td>\n",
       "      <td>3.05</td>\n",
       "    </tr>\n",
       "  </tbody>\n",
       "</table>\n",
       "</div>"
      ],
      "text/plain": [
       "   Year  Total\n",
       "0  2023   7.42\n",
       "1  2022  11.92\n",
       "2  2021   8.39\n",
       "3  2020   4.91\n",
       "4  2019   3.05"
      ]
     },
     "execution_count": 39,
     "metadata": {},
     "output_type": "execute_result"
    }
   ],
   "source": [
    "infl_df = infl[['Year', 'Total']]\n",
    "infl_df.head()"
   ]
  },
  {
   "cell_type": "code",
   "execution_count": 44,
   "id": "2b24f4ed-d77a-469e-b289-fda32df3e8d0",
   "metadata": {},
   "outputs": [],
   "source": [
    "data = data.reset_index()\n",
    "data.rename(columns={'index': 'Year'}, inplace=True)"
   ]
  },
  {
   "cell_type": "code",
   "execution_count": 45,
   "id": "579c5e04-a164-433f-8587-7953bff3637b",
   "metadata": {},
   "outputs": [
    {
     "name": "stderr",
     "output_type": "stream",
     "text": [
      "/var/folders/f0/t519cc2j4fg256swrt19f3f80000gn/T/ipykernel_7614/1351472694.py:2: SettingWithCopyWarning: \n",
      "A value is trying to be set on a copy of a slice from a DataFrame.\n",
      "Try using .loc[row_indexer,col_indexer] = value instead\n",
      "\n",
      "See the caveats in the documentation: https://pandas.pydata.org/pandas-docs/stable/user_guide/indexing.html#returning-a-view-versus-a-copy\n",
      "  infl_df['Year'] = infl_df['Year'].astype(int)\n"
     ]
    }
   ],
   "source": [
    "data['Year'] = data['Year'].astype(int)\n",
    "infl_df['Year'] = infl_df['Year'].astype(int)"
   ]
  },
  {
   "cell_type": "code",
   "execution_count": 46,
   "id": "5b0a0679-d256-4e2b-8af2-eb0627aa22de",
   "metadata": {},
   "outputs": [],
   "source": [
    "df = data.merge(infl_df[['Total', 'Year']], how='left', on='Year')"
   ]
  },
  {
   "cell_type": "code",
   "execution_count": 47,
   "id": "20cd6c81-b20e-4c52-afea-4b7538de4510",
   "metadata": {},
   "outputs": [
    {
     "data": {
      "text/html": [
       "<div>\n",
       "<style scoped>\n",
       "    .dataframe tbody tr th:only-of-type {\n",
       "        vertical-align: middle;\n",
       "    }\n",
       "\n",
       "    .dataframe tbody tr th {\n",
       "        vertical-align: top;\n",
       "    }\n",
       "\n",
       "    .dataframe thead th {\n",
       "        text-align: right;\n",
       "    }\n",
       "</style>\n",
       "<table border=\"1\" class=\"dataframe\">\n",
       "  <thead>\n",
       "    <tr style=\"text-align: right;\">\n",
       "      <th></th>\n",
       "      <th>Year</th>\n",
       "      <th>производство одежды</th>\n",
       "      <th>образование</th>\n",
       "      <th>Total</th>\n",
       "    </tr>\n",
       "  </thead>\n",
       "  <tbody>\n",
       "    <tr>\n",
       "      <th>0</th>\n",
       "      <td>2017</td>\n",
       "      <td>20299</td>\n",
       "      <td>30258</td>\n",
       "      <td>2.52</td>\n",
       "    </tr>\n",
       "    <tr>\n",
       "      <th>1</th>\n",
       "      <td>2018</td>\n",
       "      <td>19819</td>\n",
       "      <td>34361</td>\n",
       "      <td>4.27</td>\n",
       "    </tr>\n",
       "    <tr>\n",
       "      <th>2</th>\n",
       "      <td>2019</td>\n",
       "      <td>21065</td>\n",
       "      <td>37072</td>\n",
       "      <td>3.05</td>\n",
       "    </tr>\n",
       "    <tr>\n",
       "      <th>3</th>\n",
       "      <td>2020</td>\n",
       "      <td>20927</td>\n",
       "      <td>39563</td>\n",
       "      <td>4.91</td>\n",
       "    </tr>\n",
       "    <tr>\n",
       "      <th>4</th>\n",
       "      <td>2021</td>\n",
       "      <td>24312</td>\n",
       "      <td>43391</td>\n",
       "      <td>8.39</td>\n",
       "    </tr>\n",
       "  </tbody>\n",
       "</table>\n",
       "</div>"
      ],
      "text/plain": [
       "   Year  производство одежды  образование  Total\n",
       "0  2017                20299        30258   2.52\n",
       "1  2018                19819        34361   4.27\n",
       "2  2019                21065        37072   3.05\n",
       "3  2020                20927        39563   4.91\n",
       "4  2021                24312        43391   8.39"
      ]
     },
     "execution_count": 47,
     "metadata": {},
     "output_type": "execute_result"
    }
   ],
   "source": [
    "df.head()"
   ]
  },
  {
   "cell_type": "code",
   "execution_count": 53,
   "id": "96f2c447-2fac-4895-a769-1e1d0bef72f3",
   "metadata": {},
   "outputs": [],
   "source": [
    "df['Производство одежды_с инфляцией']= (df['производство одежды'] - df['производство одежды']* df['Total']/100).astype(int)\n",
    "df['Образование_с инфляцией']= (df['образование'] - df['образование']* df['Total']/100).astype(int)\n",
    "\n",
    "df['Прирост зп в производстве одежды'] = (df['производство одежды']/df['производство одежды'].shift(1)*100 - 100).fillna(value=0).astype(int)\n",
    "df['Прирост зп в образовании'] = (df['образование']/df['образование'].shift(1)*100 - 100).fillna(value=0).astype(int)\n"
   ]
  },
  {
   "cell_type": "code",
   "execution_count": 197,
   "id": "44e8f294-2aae-4b52-b438-d2321af9a557",
   "metadata": {},
   "outputs": [
    {
     "data": {
      "text/plain": [
       "<AxesSubplot:xlabel='Year', ylabel='Средняя зарплата'>"
      ]
     },
     "execution_count": 197,
     "metadata": {},
     "output_type": "execute_result"
    },
    {
     "data": {
      "image/png": "[encoded data removed]",
      "text/plain": [
       "<Figure size 640x480 with 1 Axes>"
      ]
     },
     "metadata": {},
     "output_type": "display_data"
    }
   ],
   "source": [
    "df.drop(columns=['Total'], inplace=True)\n",
    "s = pd.melt(df, ['Year'])\n",
    "s.rename(columns={'value': 'Средняя зарплата'}, inplace=True)\n",
    "sns.lineplot(x='Year', y='Средняя зарплата', hue='variable', data=s)"
   ]
  },
  {
   "cell_type": "markdown",
   "id": "b060fc0d-47a6-4d2c-8dc8-882f62bbfce8",
   "metadata": {},
   "source": [
    "Реальный рост зарплат ниже. С 2020 года инфляция начинает сильнее влиять на заработные платы. Рост замедляется, и в 2022 году по обоим видам заметен большой разрыв между реальным уровнем зп и номинальным. После 2022 года происходит резкий рост, где разрыв начинает уменьшаться"
   ]
  },
  {
   "cell_type": "code",
   "execution_count": 59,
   "id": "4c8e8b43-8ff1-478b-9573-e70a86717faf",
   "metadata": {},
   "outputs": [
    {
     "data": {
      "text/plain": [
       "<matplotlib.legend.Legend at 0x7fe37d8dec10>"
      ]
     },
     "execution_count": 59,
     "metadata": {},
     "output_type": "execute_result"
    },
    {
     "data": {
      "image/png": "[encoded data removed]",
      "text/plain": [
       "<Figure size 640x480 with 1 Axes>"
      ]
     },
     "metadata": {},
     "output_type": "display_data"
    }
   ],
   "source": [
    "years = temp['Year']\n",
    "\n",
    "x = np.arange(len(years))\n",
    "bar_width = 0.35\n",
    "fig, ax = plt.subplots()\n",
    "bar1 = ax.bar(x - bar_width/2, temp['Прирост зп в производстве одежды'], bar_width, label='Прирост зп в производстве одежды')\n",
    "bar2 = ax.bar(x + bar_width/2, temp['Total'], bar_width, label='Инфляция')\n",
    "\n",
    "ax.set_xlabel('Год')\n",
    "ax.set_ylabel('Зп в %')\n",
    "ax.set_title('Прирост зп в производстве одежды в сравнении с инфляцией')\n",
    "ax.set_xticks(x)\n",
    "ax.set_xticklabels(years)\n",
    "ax.legend()"
   ]
  },
  {
   "cell_type": "code",
   "execution_count": 60,
   "id": "edf9b58d-4f9a-4ba6-afd6-356acd8debc5",
   "metadata": {},
   "outputs": [
    {
     "data": {
      "text/plain": [
       "<matplotlib.legend.Legend at 0x7fe37db70c10>"
      ]
     },
     "execution_count": 60,
     "metadata": {},
     "output_type": "execute_result"
    },
    {
     "data": {
      "image/png": "[encoded data removed]",
      "text/plain": [
       "<Figure size 640x480 with 1 Axes>"
      ]
     },
     "metadata": {},
     "output_type": "display_data"
    }
   ],
   "source": [
    "years = temp['Year']\n",
    "\n",
    "x = np.arange(len(years))\n",
    "bar_width = 0.35\n",
    "fig, ax = plt.subplots()\n",
    "bar1 = ax.bar(x - bar_width/2, temp['Прирост зп в образовании'], bar_width, label='Прирост зп в образовании')\n",
    "bar2 = ax.bar(x + bar_width/2, temp['Total'], bar_width, label='Инфляция')\n",
    "\n",
    "ax.set_xlabel('Год')\n",
    "ax.set_ylabel('Зп в %')\n",
    "ax.set_title('Прирост зп в образовании в сравнении с инфляцией')\n",
    "ax.set_xticks(x)\n",
    "ax.set_xticklabels(years)\n",
    "ax.legend()\n"
   ]
  },
  {
   "cell_type": "markdown",
   "id": "1ca944e8-3b63-4ab5-b0f8-73d58b1923ce",
   "metadata": {},
   "source": [
    "Заметим, что в производстве одежды инфляция \"съела\" реальный рост зп в 2018 и 2020гг. Когда как в образовании рост зп превышает инфляцию"
   ]
  },
  {
   "cell_type": "code",
   "execution_count": 62,
   "id": "269cb277-87ae-4faa-9fb5-1383127500b9",
   "metadata": {},
   "outputs": [],
   "source": [
    "df.rename(columns={\n",
    "    'Year': 'Год',\n",
    "    'производство одежды': 'Производство одежды',\n",
    "    'образование': 'Образование',\n",
    "    'Total': 'Инфляция',\n",
    "                 }, inplace=True)\n",
    "df.to_csv('out.csv', index=False)"
   ]
  },
  {
   "cell_type": "code",
   "execution_count": 65,
   "id": "337a2f44-5511-41cf-90dc-486ee3508ce8",
   "metadata": {},
   "outputs": [
    {
     "data": {
      "text/html": [
       "<div>\n",
       "<style scoped>\n",
       "    .dataframe tbody tr th:only-of-type {\n",
       "        vertical-align: middle;\n",
       "    }\n",
       "\n",
       "    .dataframe tbody tr th {\n",
       "        vertical-align: top;\n",
       "    }\n",
       "\n",
       "    .dataframe thead th {\n",
       "        text-align: right;\n",
       "    }\n",
       "</style>\n",
       "<table border=\"1\" class=\"dataframe\">\n",
       "  <thead>\n",
       "    <tr style=\"text-align: right;\">\n",
       "      <th></th>\n",
       "      <th>Год</th>\n",
       "      <th>Производство одежды</th>\n",
       "      <th>Образование</th>\n",
       "      <th>Инфляция</th>\n",
       "      <th>Производство одежды_с инфляцией</th>\n",
       "      <th>Образование_с инфляцией</th>\n",
       "      <th>Прирост зп в производстве одежды</th>\n",
       "      <th>Прирост зп в образовании</th>\n",
       "    </tr>\n",
       "  </thead>\n",
       "  <tbody>\n",
       "    <tr>\n",
       "      <th>0</th>\n",
       "      <td>2017</td>\n",
       "      <td>20299</td>\n",
       "      <td>30258</td>\n",
       "      <td>2.52</td>\n",
       "      <td>19787</td>\n",
       "      <td>29495</td>\n",
       "      <td>0</td>\n",
       "      <td>0</td>\n",
       "    </tr>\n",
       "    <tr>\n",
       "      <th>1</th>\n",
       "      <td>2018</td>\n",
       "      <td>19819</td>\n",
       "      <td>34361</td>\n",
       "      <td>4.27</td>\n",
       "      <td>18972</td>\n",
       "      <td>32893</td>\n",
       "      <td>-2</td>\n",
       "      <td>13</td>\n",
       "    </tr>\n",
       "    <tr>\n",
       "      <th>2</th>\n",
       "      <td>2019</td>\n",
       "      <td>21065</td>\n",
       "      <td>37072</td>\n",
       "      <td>3.05</td>\n",
       "      <td>20422</td>\n",
       "      <td>35941</td>\n",
       "      <td>6</td>\n",
       "      <td>7</td>\n",
       "    </tr>\n",
       "    <tr>\n",
       "      <th>3</th>\n",
       "      <td>2020</td>\n",
       "      <td>20927</td>\n",
       "      <td>39563</td>\n",
       "      <td>4.91</td>\n",
       "      <td>19899</td>\n",
       "      <td>37620</td>\n",
       "      <td>0</td>\n",
       "      <td>6</td>\n",
       "    </tr>\n",
       "    <tr>\n",
       "      <th>4</th>\n",
       "      <td>2021</td>\n",
       "      <td>24312</td>\n",
       "      <td>43391</td>\n",
       "      <td>8.39</td>\n",
       "      <td>22272</td>\n",
       "      <td>39750</td>\n",
       "      <td>16</td>\n",
       "      <td>9</td>\n",
       "    </tr>\n",
       "    <tr>\n",
       "      <th>5</th>\n",
       "      <td>2022</td>\n",
       "      <td>27352</td>\n",
       "      <td>48400</td>\n",
       "      <td>11.92</td>\n",
       "      <td>24091</td>\n",
       "      <td>42630</td>\n",
       "      <td>12</td>\n",
       "      <td>11</td>\n",
       "    </tr>\n",
       "    <tr>\n",
       "      <th>6</th>\n",
       "      <td>2023</td>\n",
       "      <td>34049</td>\n",
       "      <td>54263</td>\n",
       "      <td>7.42</td>\n",
       "      <td>31522</td>\n",
       "      <td>50236</td>\n",
       "      <td>24</td>\n",
       "      <td>12</td>\n",
       "    </tr>\n",
       "  </tbody>\n",
       "</table>\n",
       "</div>"
      ],
      "text/plain": [
       "    Год  Производство одежды  Образование  Инфляция  \\\n",
       "0  2017                20299        30258      2.52   \n",
       "1  2018                19819        34361      4.27   \n",
       "2  2019                21065        37072      3.05   \n",
       "3  2020                20927        39563      4.91   \n",
       "4  2021                24312        43391      8.39   \n",
       "5  2022                27352        48400     11.92   \n",
       "6  2023                34049        54263      7.42   \n",
       "\n",
       "   Производство одежды_с инфляцией  Образование_с инфляцией  \\\n",
       "0                            19787                    29495   \n",
       "1                            18972                    32893   \n",
       "2                            20422                    35941   \n",
       "3                            19899                    37620   \n",
       "4                            22272                    39750   \n",
       "5                            24091                    42630   \n",
       "6                            31522                    50236   \n",
       "\n",
       "   Прирост зп в производстве одежды  Прирост зп в образовании  \n",
       "0                                 0                         0  \n",
       "1                                -2                        13  \n",
       "2                                 6                         7  \n",
       "3                                 0                         6  \n",
       "4                                16                         9  \n",
       "5                                12                        11  \n",
       "6                                24                        12  "
      ]
     },
     "execution_count": 65,
     "metadata": {},
     "output_type": "execute_result"
    }
   ],
   "source": [
    "df"
   ]
  },
  {
   "cell_type": "code",
   "execution_count": null,
   "id": "ca6bdea5-0122-4dce-b889-59e019536ae4",
   "metadata": {},
   "outputs": [],
   "source": []
  },
  {
   "cell_type": "code",
   "execution_count": null,
   "id": "b9fe4891-9c1a-4c42-9d99-81647249f216",
   "metadata": {},
   "outputs": [],
   "source": []
  },
  {
   "cell_type": "code",
   "execution_count": null,
   "id": "07dfa73b-12cc-488b-9169-6cdb52143609",
   "metadata": {},
   "outputs": [],
   "source": []
  },
  {
   "cell_type": "code",
   "execution_count": null,
   "id": "87acc008-8500-4284-9acd-42c037ca4a59",
   "metadata": {},
   "outputs": [],
   "source": []
  },
  {
   "cell_type": "code",
   "execution_count": null,
   "id": "fd4c6f7e-e6c0-4307-ab8b-97d959e5fb8c",
   "metadata": {},
   "outputs": [],
   "source": []
  },
  {
   "cell_type": "code",
   "execution_count": null,
   "id": "8b5a728d-e442-4227-9a0c-d76cb782acff",
   "metadata": {},
   "outputs": [],
   "source": []
  },
  {
   "cell_type": "code",
   "execution_count": null,
   "id": "b3a0f5f3-dab8-4bc6-ad5c-04e7fb46a173",
   "metadata": {},
   "outputs": [],
   "source": []
  },
  {
   "cell_type": "code",
   "execution_count": null,
   "id": "da4ea188-4f15-4d86-8c45-85c3996a9f74",
   "metadata": {},
   "outputs": [],
   "source": []
  },
  {
   "cell_type": "code",
   "execution_count": null,
   "id": "1b6a08b6-4962-43d9-937b-08f0a0142eab",
   "metadata": {},
   "outputs": [],
   "source": []
  },
  {
   "cell_type": "code",
   "execution_count": null,
   "id": "406aeff2-f96e-46df-b2aa-92fd9780bbc3",
   "metadata": {},
   "outputs": [],
   "source": []
  },
  {
   "cell_type": "code",
   "execution_count": null,
   "id": "d3a06928-d4fe-44c6-a614-d65bba121708",
   "metadata": {},
   "outputs": [],
   "source": []
  },
  {
   "cell_type": "code",
   "execution_count": null,
   "id": "4c8b4d81-d0a4-4cbb-9fc3-cb6f30a190b8",
   "metadata": {},
   "outputs": [],
   "source": []
  },
  {
   "cell_type": "code",
   "execution_count": null,
   "id": "99c9d42f-b25c-46ad-8b6e-68a250dc5b83",
   "metadata": {},
   "outputs": [],
   "source": []
  },
  {
   "cell_type": "code",
   "execution_count": null,
   "id": "ef7b42df-c8ae-46f4-94ee-e84ce0a91901",
   "metadata": {},
   "outputs": [],
   "source": []
  },
  {
   "cell_type": "code",
   "execution_count": null,
   "id": "d12d2d09-0fd0-4fcb-8de0-0a25c707efdd",
   "metadata": {},
   "outputs": [],
   "source": []
  },
  {
   "cell_type": "code",
   "execution_count": null,
   "id": "c85badc0-891d-422b-8b11-5e460c8c87c4",
   "metadata": {},
   "outputs": [],
   "source": []
  },
  {
   "cell_type": "code",
   "execution_count": null,
   "id": "feed0071-3cc0-4648-92e9-a2c429ab030c",
   "metadata": {},
   "outputs": [],
   "source": []
  },
  {
   "cell_type": "code",
   "execution_count": null,
   "id": "85563d44-065d-471b-99d0-d38e452dd26b",
   "metadata": {},
   "outputs": [],
   "source": []
  },
  {
   "cell_type": "code",
   "execution_count": null,
   "id": "95d92935-bebf-431e-a354-71d676ffdff0",
   "metadata": {},
   "outputs": [],
   "source": []
  }
 ],
 "metadata": {
  "kernelspec": {
   "display_name": "Python 3 (ipykernel)",
   "language": "python",
   "name": "python3"
  },
  "language_info": {
   "codemirror_mode": {
    "name": "ipython",
    "version": 3
   },
   "file_extension": ".py",
   "mimetype": "text/x-python",
   "name": "python",
   "nbconvert_exporter": "python",
   "pygments_lexer": "ipython3",
   "version": "3.8.8"
  }
 },
 "nbformat": 4,
 "nbformat_minor": 5
}
